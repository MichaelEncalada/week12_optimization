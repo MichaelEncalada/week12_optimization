{
 "cells": [
  {
   "cell_type": "markdown",
   "id": "c9617696-a7d0-4ab4-a9c1-9a7b515539e3",
   "metadata": {},
   "source": [
    "### Exercise: Choosing a country for a Master Program\n",
    "\n",
    "- Make a group of 4 people from this course.\n",
    "- If you have the criteria: cost of living, language difficulty, possibilities to get a job in that country after studies are finished.\n",
    "- If you have the alternatives: Brazil, Spain, USA, Germany.\n",
    "- Create an AHP model and get the ranking."
   ]
  },
  {
   "cell_type": "markdown",
   "id": "849ae296-effd-4c94-bf40-890f8fea8c45",
   "metadata": {},
   "source": [
    "### We choose\n",
    "- Master Program: A Master of Public Policy (MPP)\n",
    "- Criteria: (1) cost of living, (2) language difficulty, (3) possibilities to get a job in that country after studies are finished.\n",
    "- Alternatives: UK, Germany, Spain and Chile.\n",
    "- AHP model"
   ]
  },
  {
   "cell_type": "code",
   "execution_count": null,
   "id": "ace405cc-322a-41f6-9952-18de92b95ac6",
   "metadata": {},
   "outputs": [],
   "source": []
  }
 ],
 "metadata": {
  "kernelspec": {
   "display_name": "Python 3 (ipykernel)",
   "language": "python",
   "name": "python3"
  },
  "language_info": {
   "codemirror_mode": {
    "name": "ipython",
    "version": 3
   },
   "file_extension": ".py",
   "mimetype": "text/x-python",
   "name": "python",
   "nbconvert_exporter": "python",
   "pygments_lexer": "ipython3",
   "version": "3.9.13"
  }
 },
 "nbformat": 4,
 "nbformat_minor": 5
}
