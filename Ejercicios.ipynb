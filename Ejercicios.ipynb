{
 "cells": [
  {
   "cell_type": "markdown",
   "id": "0f00b494-f099-4187-af19-ea8a12f45c4e",
   "metadata": {},
   "source": [
    "# Ejercicio 1: "
   ]
  },
  {
   "cell_type": "code",
   "execution_count": 1,
   "id": "079021a4-fad2-486e-96d0-765ebf63fdc2",
   "metadata": {},
   "outputs": [
    {
     "name": "stdout",
     "output_type": "stream",
     "text": [
      "Collecting glpk\n",
      "  Downloading glpk-0.4.8.tar.gz (160 kB)\n",
      "     -------------------------------------- 160.7/160.7 kB 1.9 MB/s eta 0:00:00\n",
      "  Installing build dependencies: started\n",
      "  Installing build dependencies: finished with status 'done'\n",
      "  Getting requirements to build wheel: started\n",
      "  Getting requirements to build wheel: finished with status 'done'\n",
      "  Preparing metadata (pyproject.toml): started\n",
      "  Preparing metadata (pyproject.toml): finished with status 'done'\n",
      "Building wheels for collected packages: glpk\n",
      "  Building wheel for glpk (pyproject.toml): started\n",
      "  Building wheel for glpk (pyproject.toml): finished with status 'error'\n",
      "Failed to build glpk\n"
     ]
    },
    {
     "name": "stderr",
     "output_type": "stream",
     "text": [
      "  error: subprocess-exited-with-error\n",
      "  \n",
      "  Building wheel for glpk (pyproject.toml) did not run successfully.\n",
      "  exit code: 1\n",
      "  \n",
      "  [5 lines of output]\n",
      "  running bdist_wheel\n",
      "  running build\n",
      "  running build_ext\n",
      "  building 'glpk' extension\n",
      "  error: Microsoft Visual C++ 14.0 or greater is required. Get it with \"Microsoft C++ Build Tools\": https://visualstudio.microsoft.com/visual-cpp-build-tools/\n",
      "  [end of output]\n",
      "  \n",
      "  note: This error originates from a subprocess, and is likely not a problem with pip.\n",
      "  ERROR: Failed building wheel for glpk\n",
      "ERROR: Could not build wheels for glpk, which is required to install pyproject.toml-based projects\n"
     ]
    }
   ],
   "source": [
    "!pip install glpk"
   ]
  },
  {
   "cell_type": "code",
   "execution_count": 2,
   "id": "6d22abe0-ca36-4275-b372-9844b7f23302",
   "metadata": {},
   "outputs": [
    {
     "name": "stdout",
     "output_type": "stream",
     "text": [
      "Collecting pulp\n",
      "  Using cached PuLP-2.9.0-py3-none-any.whl (17.7 MB)\n",
      "Installing collected packages: pulp\n",
      "Successfully installed pulp-2.9.0\n"
     ]
    }
   ],
   "source": [
    "!pip install pulp"
   ]
  },
  {
   "cell_type": "code",
   "execution_count": 2,
   "id": "13b8c0be-d42a-4458-9445-43b3b19723f8",
   "metadata": {},
   "outputs": [],
   "source": [
    "import pulp as pp"
   ]
  },
  {
   "cell_type": "code",
   "execution_count": 3,
   "id": "ae5954b5-ef0a-45f9-a2e5-8c79f7585100",
   "metadata": {},
   "outputs": [],
   "source": [
    "model = pp.LpProblem(name='medicine-problem', # just the name\n",
    "                     sense=pp.LpMinimize) # type of problem"
   ]
  },
  {
   "cell_type": "code",
   "execution_count": 4,
   "id": "35a10798-1944-449b-b4e0-68894884b024",
   "metadata": {},
   "outputs": [],
   "source": [
    "# how much gas?\n",
    "VV = pp.LpVariable(name=\"VegaVita\",  # just the name\n",
    "                    lowBound=0,  # ensure non-negativity\n",
    "                    cat='Continuous') # here: you accept decimal values\n",
    "\n",
    "# how much oil?\n",
    "HH = pp.LpVariable(name=\"HappyHealth\",\n",
    "                 lowBound=0,\n",
    "                 cat='Continuous')"
   ]
  },
  {
   "cell_type": "code",
   "execution_count": 5,
   "id": "560513fd-42e1-4d5f-a2f9-f0cc43e238a5",
   "metadata": {},
   "outputs": [],
   "source": [
    "VVCoeff=0.2\n",
    "HHCoeff=1.5\n",
    "obj_func = VVCoeff*VV + HHCoeff*HH"
   ]
  },
  {
   "cell_type": "code",
   "execution_count": 6,
   "id": "ad89b4a5-ea48-4b5f-8fab-666d7699d7e4",
   "metadata": {},
   "outputs": [],
   "source": [
    "C1= pp.LpConstraint(name='Vitamin C Constraint',   # just the name\n",
    "                    e= 20*VV + 30*HH, rhs=60, # linear combination of constraint and rhs\n",
    "                    sense=pp.LpConstraintGE) # 'rule' >= 0 (LpConstraintGE)\n",
    "C2= pp.LpConstraint(name='Calcium Constraint',\n",
    "                    e= 500*VV + 250*HH, rhs=1000,\n",
    "                    sense=pp.LpConstraintGE) # 'rule' >= 3000000 (LpConstraintGE)\n",
    "C3= pp.LpConstraint(name='Iron Constraint',\n",
    "                    e= 9*VV + 2*HH, rhs=18,\n",
    "                    sense=pp.LpConstraintGE)\n",
    "C4= pp.LpConstraint(name='Niacin Constraint',\n",
    "                    e= 2*VV + 10*HH, rhs=20,\n",
    "                    sense=pp.LpConstraintGE)\n",
    "C5= pp.LpConstraint(name='Mg Constraint',\n",
    "                    e= 60*VV + 90*HH, rhs=360,\n",
    "                    sense=pp.LpConstraintGE, )# 'rule' <= 6400000 (LpConstraintLE)"
   ]
  },
  {
   "cell_type": "code",
   "execution_count": 7,
   "id": "3baee4a4-cbcb-4ab3-8d62-2d40d3b9a5d9",
   "metadata": {},
   "outputs": [],
   "source": [
    "model += obj_func\n",
    "model += C1\n",
    "model += C2\n",
    "model += C3"
   ]
  },
  {
   "cell_type": "code",
   "execution_count": 8,
   "id": "bbcbe989-91bc-495d-93ea-916ff054b11f",
   "metadata": {},
   "outputs": [
    {
     "name": "stdout",
     "output_type": "stream",
     "text": [
      "['GLPK_CMD', 'PYGLPK', 'CPLEX_CMD', 'CPLEX_PY', 'GUROBI', 'GUROBI_CMD', 'MOSEK', 'XPRESS', 'XPRESS', 'XPRESS_PY', 'PULP_CBC_CMD', 'COIN_CMD', 'COINMP_DLL', 'CHOCO_CMD', 'MIPCL_CMD', 'SCIP_CMD', 'FSCIP_CMD', 'SCIP_PY', 'HiGHS', 'HiGHS_CMD', 'COPT', 'COPT_DLL', 'COPT_CMD']\n"
     ]
    }
   ],
   "source": [
    "solver_list = pp.listSolvers()\n",
    "print(solver_list)"
   ]
  },
  {
   "cell_type": "code",
   "execution_count": 9,
   "id": "f97312dc-2511-4cf9-9455-cf3c6bf779f4",
   "metadata": {},
   "outputs": [],
   "source": [
    "solverToUse= pp.COIN_CMD(msg=False)\n",
    "model.solve();"
   ]
  },
  {
   "cell_type": "code",
   "execution_count": 10,
   "id": "5eb20a92-6357-4727-96ce-e59c3e6a8aa4",
   "metadata": {},
   "outputs": [
    {
     "data": {
      "text/plain": [
       "{'Model Status': 'Optimal',\n",
       " 'Optimal Solution': 0.6000000000000001,\n",
       " 'HappyHealth': 0.0,\n",
       " 'VegaVita': 3.0}"
      ]
     },
     "execution_count": 10,
     "metadata": {},
     "output_type": "execute_result"
    }
   ],
   "source": [
    "import pandas as pd\n",
    "\n",
    "Results={\"Model Status\":pp.LpStatus[model.status]}\n",
    "Results.update({\"Optimal Solution\":pp.value(model.objective)})\n",
    "Results.update({v.name: v.varValue for v in model.variables()})\n",
    "Results"
   ]
  },
  {
   "cell_type": "markdown",
   "id": "81b1a7f9-01dc-4812-9312-055e05d78cbd",
   "metadata": {},
   "source": [
    "# Ejercicio 2"
   ]
  },
  {
   "cell_type": "markdown",
   "id": "c9617696-a7d0-4ab4-a9c1-9a7b515539e3",
   "metadata": {},
   "source": [
    "### Exercise: Choosing a country for a Master Program\n",
    "\n",
    "- Make a group of 4 people from this course.\n",
    "- If you have the criteria: cost of living, language difficulty, possibilities to get a job in that country after studies are finished.\n",
    "- If you have the alternatives: Brazil, Spain, USA, Germany.\n",
    "- Create an AHP model and get the ranking."
   ]
  },
  {
   "cell_type": "markdown",
   "id": "849ae296-effd-4c94-bf40-890f8fea8c45",
   "metadata": {},
   "source": [
    "### We choose\n",
    "- Master Program: A Master of Public Policy (MPP)\n",
    "- Criteria: (1) cost of living, (2) language difficulty, (3) possibilities to get a job in that country after studies are finished.\n",
    "- Alternatives: UK, Germany, Spain and Chile.\n",
    "- AHP model: https://docs.google.com/spreadsheets/d/1fcnfcmDSSisiYiu-FpnYT5cKBQYqrjnE1DkigsHcM8E/edit?gid=659603613#gid=659603613"
   ]
  },
  {
   "cell_type": "markdown",
   "id": "f1a7a9a4-79b3-4231-9ebf-50a3828eed04",
   "metadata": {},
   "source": [
    "# AHP Model"
   ]
  },
  {
   "cell_type": "markdown",
   "id": "ad1ab0a7-7896-4457-8bfe-77b9542cb841",
   "metadata": {},
   "source": [
    "1. Prepare data for comparision"
   ]
  },
  {
   "cell_type": "code",
   "execution_count": 58,
   "id": "fe2dda75-4b84-41f7-a2a0-02963fae5f10",
   "metadata": {},
   "outputs": [],
   "source": [
    "#%%html\n",
    "\n",
    "#<iframe src=\"https://docs.google.com/spreadsheets/d/1fcnfcmDSSisiYiu-FpnYT5cKBQYqrjnE1DkigsHcM8E/edit?gid=659603613#gid=659603613\" width=\"600\" height=\"300\" ></iframe>"
   ]
  },
  {
   "cell_type": "code",
   "execution_count": 57,
   "id": "88f6e628-3aa9-4352-8339-ea05e44d3afa",
   "metadata": {},
   "outputs": [
    {
     "data": {
      "text/html": [
       "\n",
       "<iframe src=\"https://docs.google.com/spreadsheets/d/1hwWuzUFCzs_YFoV27HWYzSMLgkbXCpIc/edit?gid=113328570#gid=113328570\" width=\"600\" height=\"300\" ></iframe>\n"
      ],
      "text/plain": [
       "<IPython.core.display.HTML object>"
      ]
     },
     "metadata": {},
     "output_type": "display_data"
    }
   ],
   "source": [
    "%%html\n",
    "\n",
    "<iframe src=\"https://docs.google.com/spreadsheets/d/1hwWuzUFCzs_YFoV27HWYzSMLgkbXCpIc/edit?gid=113328570#gid=113328570\" width=\"600\" height=\"300\" ></iframe>"
   ]
  },
  {
   "cell_type": "markdown",
   "id": "e5926811-5719-44e0-89a6-431d9f73efe2",
   "metadata": {},
   "source": [
    "2. Get the data (Excel) and Open each sheet:"
   ]
  },
  {
   "cell_type": "code",
   "execution_count": 59,
   "id": "ce0139e1-c772-46ac-8947-00d12322f854",
   "metadata": {},
   "outputs": [],
   "source": [
    "#linkGoogle='https://docs.google.com/spreadsheets/d/e/2PACX-1vRGzlHwDqOoeb337eloDICBNAUUVdKz47f2drs80oAB8Xhba900zF4dNFBhIOjOyg/pub?output=xlsx'# the link to the data"
   ]
  },
  {
   "cell_type": "code",
   "execution_count": 67,
   "id": "469b1d37-0d9c-49f3-955e-3e62128fd31b",
   "metadata": {},
   "outputs": [],
   "source": [
    "import pandas as pd\n",
    "\n",
    "# Enlace directo de Google Sheets en formato .xlsx\n",
    "linkGoogle = 'https://docs.google.com/spreadsheets/d/1hwWuzUFCzs_YFoV27HWYzSMLgkbXCpIc/export?format=xlsx&id=1hwWuzUFCzs_YFoV27HWYzSMLgkbXCpIc'\n",
    "\n",
    "# Leer las diferentes hojas\n",
    "pairwise_cost = pd.read_excel(linkGoogle, sheet_name='cost of living', index_col=0, engine='openpyxl')\n",
    "pairwise_language = pd.read_excel(linkGoogle, sheet_name='languaje difficulty', index_col=0, engine='openpyxl')\n",
    "pairwise_job = pd.read_excel(linkGoogle, sheet_name='possibilities to get a job', index_col=0, engine='openpyxl')\n",
    "pairwise_criterio = pd.read_excel(linkGoogle,sheet_name='criterios', index_col=0, engine='openpyxl')"
   ]
  },
  {
   "cell_type": "code",
   "execution_count": 68,
   "id": "66f3fe77-ecc5-4bfc-8e4d-7c6ee9a9afdb",
   "metadata": {},
   "outputs": [
    {
     "data": {
      "text/html": [
       "<div>\n",
       "<style scoped>\n",
       "    .dataframe tbody tr th:only-of-type {\n",
       "        vertical-align: middle;\n",
       "    }\n",
       "\n",
       "    .dataframe tbody tr th {\n",
       "        vertical-align: top;\n",
       "    }\n",
       "\n",
       "    .dataframe thead th {\n",
       "        text-align: right;\n",
       "    }\n",
       "</style>\n",
       "<table border=\"1\" class=\"dataframe\">\n",
       "  <thead>\n",
       "    <tr style=\"text-align: right;\">\n",
       "      <th></th>\n",
       "      <th>cost</th>\n",
       "      <th>language</th>\n",
       "      <th>job</th>\n",
       "    </tr>\n",
       "  </thead>\n",
       "  <tbody>\n",
       "    <tr>\n",
       "      <th>cost</th>\n",
       "      <td>1.0</td>\n",
       "      <td>5</td>\n",
       "      <td>0.111111</td>\n",
       "    </tr>\n",
       "    <tr>\n",
       "      <th>language</th>\n",
       "      <td>0.2</td>\n",
       "      <td>1</td>\n",
       "      <td>0.142857</td>\n",
       "    </tr>\n",
       "    <tr>\n",
       "      <th>job</th>\n",
       "      <td>9.0</td>\n",
       "      <td>7</td>\n",
       "      <td>1.000000</td>\n",
       "    </tr>\n",
       "  </tbody>\n",
       "</table>\n",
       "</div>"
      ],
      "text/plain": [
       "          cost  language       job\n",
       "cost       1.0         5  0.111111\n",
       "language   0.2         1  0.142857\n",
       "job        9.0         7  1.000000"
      ]
     },
     "execution_count": 68,
     "metadata": {},
     "output_type": "execute_result"
    }
   ],
   "source": [
    "#check\n",
    "pairwise_criterio"
   ]
  },
  {
   "cell_type": "code",
   "execution_count": 69,
   "id": "b3a4e4a8-6ebb-4191-b3df-24ba459e57f2",
   "metadata": {},
   "outputs": [
    {
     "data": {
      "text/plain": [
       "OutMultiEdgeDataView([('uk', 'uk', {'weight': 1.0}), ('uk', 'germany', {'weight': 0.3333}), ('uk', 'spain', {'weight': 0.5}), ('uk', 'chile', {'weight': 0.11111}), ('germany', 'germany', {'weight': 1.0}), ('germany', 'uk', {'weight': 3.0}), ('germany', 'spain', {'weight': 0.5}), ('germany', 'chile', {'weight': 0.2}), ('spain', 'spain', {'weight': 1.0}), ('spain', 'uk', {'weight': 2.0}), ('spain', 'germany', {'weight': 2.0}), ('spain', 'chile', {'weight': 0.5}), ('chile', 'chile', {'weight': 1.0}), ('chile', 'uk', {'weight': 9.0}), ('chile', 'germany', {'weight': 5.0}), ('chile', 'spain', {'weight': 2.0})])"
      ]
     },
     "execution_count": 69,
     "metadata": {},
     "output_type": "execute_result"
    }
   ],
   "source": [
    "import networkx as nx\n",
    "\n",
    "cost = nx.from_pandas_adjacency(pairwise_cost,create_using=nx.MultiDiGraph())\n",
    "\n",
    "# pairwise\n",
    "cost.edges(data=True)"
   ]
  },
  {
   "cell_type": "code",
   "execution_count": 70,
   "id": "8bd57358-f487-496a-8e1e-79fd29306564",
   "metadata": {},
   "outputs": [
    {
     "data": {
      "text/plain": [
       "{('uk', 'germany'): 0.3333,\n",
       " ('uk', 'spain'): 0.5,\n",
       " ('uk', 'chile'): 0.11111,\n",
       " ('germany', 'uk'): 3.0,\n",
       " ('germany', 'spain'): 0.5,\n",
       " ('germany', 'chile'): 0.2,\n",
       " ('spain', 'uk'): 2.0,\n",
       " ('spain', 'germany'): 2.0,\n",
       " ('spain', 'chile'): 0.5,\n",
       " ('chile', 'uk'): 9.0,\n",
       " ('chile', 'germany'): 5.0,\n",
       " ('chile', 'spain'): 2.0}"
      ]
     },
     "execution_count": 70,
     "metadata": {},
     "output_type": "execute_result"
    }
   ],
   "source": [
    "cost_comparisons ={(e[0],e[1]):e[2]['weight'] for e in cost.edges(data=True) if e[0]!= e[1]}\n",
    "cost_comparisons"
   ]
  },
  {
   "cell_type": "code",
   "execution_count": 71,
   "id": "6e6c4e7d-1ce4-43f6-93f4-5e6ce23a9164",
   "metadata": {},
   "outputs": [],
   "source": [
    "language = nx.from_pandas_adjacency(pairwise_languaje,create_using=nx.MultiDiGraph())\n",
    "language_comparisons={(e[0],e[1]):e[2]['weight'] for e in language.edges(data=True) if e[0]!= e[1]}\n",
    "\n",
    "job = nx.from_pandas_adjacency(pairwise_job,create_using=nx.MultiDiGraph())\n",
    "job_comparisons={(e[0],e[1]):e[2]['weight'] for e in job.edges(data=True) if e[0]!= e[1]}"
   ]
  },
  {
   "cell_type": "code",
   "execution_count": 72,
   "id": "fd81367b-0cf7-4339-b7ff-bfb71d582761",
   "metadata": {},
   "outputs": [
    {
     "data": {
      "text/plain": [
       "[{('uk', 'germany'): 0.3333,\n",
       "  ('uk', 'spain'): 0.5,\n",
       "  ('uk', 'chile'): 0.11111,\n",
       "  ('germany', 'uk'): 3.0,\n",
       "  ('germany', 'spain'): 0.5,\n",
       "  ('germany', 'chile'): 0.2,\n",
       "  ('spain', 'uk'): 2.0,\n",
       "  ('spain', 'germany'): 2.0,\n",
       "  ('spain', 'chile'): 0.5,\n",
       "  ('chile', 'uk'): 9.0,\n",
       "  ('chile', 'germany'): 5.0,\n",
       "  ('chile', 'spain'): 2.0},\n",
       " {('uk', 'germany'): 5.0,\n",
       "  ('uk', 'spain'): 0.1111111111,\n",
       "  ('uk', 'chile'): 0.1111111111,\n",
       "  ('germany', 'uk'): 0.2,\n",
       "  ('germany', 'spain'): 0.1111111111,\n",
       "  ('germany', 'chile'): 0.1111111111,\n",
       "  ('spain', 'uk'): 9.0,\n",
       "  ('spain', 'germany'): 9.0,\n",
       "  ('spain', 'chile'): 1.0,\n",
       "  ('chile', 'uk'): 9.0,\n",
       "  ('chile', 'germany'): 9.0,\n",
       "  ('chile', 'spain'): 1.0},\n",
       " {('uk', 'germany'): 0.33,\n",
       "  ('uk', 'spain'): 3.0,\n",
       "  ('uk', 'chile'): 7.0,\n",
       "  ('germany', 'uk'): 3.0,\n",
       "  ('germany', 'spain'): 5.0,\n",
       "  ('germany', 'chile'): 9.0,\n",
       "  ('spain', 'uk'): 3.0,\n",
       "  ('spain', 'germany'): 0.2,\n",
       "  ('spain', 'chile'): 5.0,\n",
       "  ('chile', 'uk'): 0.14285714285714285,\n",
       "  ('chile', 'germany'): 0.11,\n",
       "  ('chile', 'spain'): 0.2}]"
      ]
     },
     "execution_count": 72,
     "metadata": {},
     "output_type": "execute_result"
    }
   ],
   "source": [
    "[cost_comparisons, language_comparisons,job_comparisons]"
   ]
  },
  {
   "cell_type": "code",
   "execution_count": 73,
   "id": "8b323d48-4fe5-4996-a37e-a0c8fd2a451a",
   "metadata": {},
   "outputs": [
    {
     "data": {
      "text/plain": [
       "{('cost', 'language'): 5.0,\n",
       " ('cost', 'job'): 0.1111111111111111,\n",
       " ('language', 'cost'): 0.2,\n",
       " ('language', 'job'): 0.14285714285714285,\n",
       " ('job', 'cost'): 9.0,\n",
       " ('job', 'language'): 7.0}"
      ]
     },
     "execution_count": 73,
     "metadata": {},
     "output_type": "execute_result"
    }
   ],
   "source": [
    "G_CRIT = nx.from_pandas_adjacency(pairwise_criterio,create_using=nx.MultiDiGraph())\n",
    "criteria_comparisons ={(e[0],e[1]):e[2]['weight'] for e in G_CRIT.edges(data=True) if e[0]!= e[1]}\n",
    "criteria_comparisons"
   ]
  },
  {
   "cell_type": "code",
   "execution_count": 74,
   "id": "73aaa6c3-aaf2-4b2f-953b-82c2b4beccf2",
   "metadata": {},
   "outputs": [
    {
     "name": "stdout",
     "output_type": "stream",
     "text": [
      "Requirement already satisfied: ahpy in c:\\users\\michael encalada\\anaconda3\\lib\\site-packages (2.0)\n",
      "Requirement already satisfied: numpy in c:\\users\\michael encalada\\anaconda3\\lib\\site-packages (from ahpy) (1.24.4)\n",
      "Requirement already satisfied: scipy in c:\\users\\michael encalada\\anaconda3\\lib\\site-packages (from ahpy) (1.9.1)\n"
     ]
    }
   ],
   "source": [
    "!pip install ahpy"
   ]
  },
  {
   "cell_type": "code",
   "execution_count": 75,
   "id": "b0ac1e5f-a930-44ae-b94b-36bfb0107281",
   "metadata": {},
   "outputs": [],
   "source": [
    "import ahpy"
   ]
  },
  {
   "cell_type": "code",
   "execution_count": 76,
   "id": "bf0fe243-b76f-4de8-9267-f3958c242c69",
   "metadata": {},
   "outputs": [],
   "source": [
    "cost_living = ahpy.Compare('cost', cost_comparisons, precision=3, random_index='saaty')\n",
    "language_difficulty = ahpy.Compare('language', language_comparisons, precision=3, random_index='saaty')\n",
    "job_opportunities = ahpy.Compare('job', job_comparisons, precision=3, random_index='saaty')\n",
    "criteria = ahpy.Compare('criteria', criteria_comparisons, precision=3, random_index='saaty')"
   ]
  },
  {
   "cell_type": "code",
   "execution_count": 77,
   "id": "4260bbcd-ad3a-410f-a0bd-5459c780664a",
   "metadata": {},
   "outputs": [],
   "source": [
    "criteria.add_children([cost_living, language_difficulty, job_opportunities])"
   ]
  },
  {
   "cell_type": "code",
   "execution_count": 78,
   "id": "9f3e73fc-b2f2-4c7f-9b40-dd85aa75f232",
   "metadata": {},
   "outputs": [
    {
     "name": "stdout",
     "output_type": "stream",
     "text": [
      "{'germany': 0.473, 'spain': 0.24, 'chile': 0.148, 'uk': 0.138}\n"
     ]
    }
   ],
   "source": [
    "print(criteria.target_weights)"
   ]
  },
  {
   "cell_type": "code",
   "execution_count": 79,
   "id": "d6ebcf6b-4566-4b17-ad08-2676aa80d3ac",
   "metadata": {},
   "outputs": [
    {
     "data": {
      "text/plain": [
       "[('cost', 0.052), ('language', 0.127), ('job', 0.155), ('criteria', 0.382)]"
      ]
     },
     "execution_count": 79,
     "metadata": {},
     "output_type": "execute_result"
    }
   ],
   "source": [
    "[(val.name,val.consistency_ratio) for val in [cost_living, language_difficulty, job_opportunities, criteria]]"
   ]
  },
  {
   "cell_type": "markdown",
   "id": "93d3fd27-3282-4f05-83ea-2fc4aaf3b3ad",
   "metadata": {},
   "source": [
    "# Ejercicio 3 "
   ]
  },
  {
   "cell_type": "code",
   "execution_count": 80,
   "id": "ab801ca9-0ebf-426c-bdf0-d5a572f7f010",
   "metadata": {},
   "outputs": [
    {
     "name": "stdout",
     "output_type": "stream",
     "text": [
      "C:\\Users\\Michael Encalada\\Documents\\GitHub\\Magallanes\\week12_optimization\n",
      "['.git', '.gitignore', '.ipynb_checkpoints', 'Ejercicios.html', 'Ejercicios.ipynb', 'LICENSE', 'municipalidades.xlsx', 'Optimization tarea.xlsx', 'README.md']\n"
     ]
    }
   ],
   "source": [
    "import os\n",
    "\n",
    "print(os.getcwd())  # Esto muestra el directorio actual\n",
    "print(os.listdir()) # Esto lista todos los archivos en el directorio actual\n"
   ]
  },
  {
   "cell_type": "code",
   "execution_count": 81,
   "id": "c709d3d7-4a37-4ac8-b829-3276199b61c5",
   "metadata": {},
   "outputs": [],
   "source": [
    "import pandas as pd\n",
    "\n",
    "df = pd.read_excel(r\"C:\\Users\\Michael Encalada\\Documents\\GitHub\\Magallanes\\week12_optimization\\municipalidades.xlsx\")  # Usa r\"\" para indicar una cadena de texto \"raw\" y evitar problemas de escape en Windows\n",
    "\n"
   ]
  },
  {
   "cell_type": "code",
   "execution_count": 82,
   "id": "0f66a03f-b728-45bc-888c-8740f800ac17",
   "metadata": {},
   "outputs": [
    {
     "data": {
      "text/html": [
       "<div>\n",
       "<style scoped>\n",
       "    .dataframe tbody tr th:only-of-type {\n",
       "        vertical-align: middle;\n",
       "    }\n",
       "\n",
       "    .dataframe tbody tr th {\n",
       "        vertical-align: top;\n",
       "    }\n",
       "\n",
       "    .dataframe thead th {\n",
       "        text-align: right;\n",
       "    }\n",
       "</style>\n",
       "<table border=\"1\" class=\"dataframe\">\n",
       "  <thead>\n",
       "    <tr style=\"text-align: right;\">\n",
       "      <th></th>\n",
       "      <th>muni</th>\n",
       "      <th>Ingreso per capita</th>\n",
       "      <th>% Presupuesto ejecutado</th>\n",
       "      <th>trabajadores</th>\n",
       "      <th>n° beneficiarios</th>\n",
       "      <th>beneficiarios%</th>\n",
       "      <th>centros</th>\n",
       "      <th>años implementación</th>\n",
       "    </tr>\n",
       "  </thead>\n",
       "  <tbody>\n",
       "    <tr>\n",
       "      <th>0</th>\n",
       "      <td>ANCON</td>\n",
       "      <td>207.857758</td>\n",
       "      <td>68.46</td>\n",
       "      <td>215</td>\n",
       "      <td>50</td>\n",
       "      <td>0.030395</td>\n",
       "      <td>1</td>\n",
       "      <td>10</td>\n",
       "    </tr>\n",
       "    <tr>\n",
       "      <th>1</th>\n",
       "      <td>ATE</td>\n",
       "      <td>289.322960</td>\n",
       "      <td>77.10</td>\n",
       "      <td>1627</td>\n",
       "      <td>420</td>\n",
       "      <td>0.021511</td>\n",
       "      <td>12</td>\n",
       "      <td>5</td>\n",
       "    </tr>\n",
       "    <tr>\n",
       "      <th>2</th>\n",
       "      <td>BARRANCO</td>\n",
       "      <td>292.157317</td>\n",
       "      <td>75.90</td>\n",
       "      <td>521</td>\n",
       "      <td>45</td>\n",
       "      <td>0.007888</td>\n",
       "      <td>1</td>\n",
       "      <td>0</td>\n",
       "    </tr>\n",
       "    <tr>\n",
       "      <th>3</th>\n",
       "      <td>CHACLACAYO</td>\n",
       "      <td>213.441099</td>\n",
       "      <td>80.92</td>\n",
       "      <td>189</td>\n",
       "      <td>180</td>\n",
       "      <td>0.052988</td>\n",
       "      <td>4</td>\n",
       "      <td>11</td>\n",
       "    </tr>\n",
       "    <tr>\n",
       "      <th>4</th>\n",
       "      <td>CHORRILLOS</td>\n",
       "      <td>264.977511</td>\n",
       "      <td>83.82</td>\n",
       "      <td>345</td>\n",
       "      <td>361</td>\n",
       "      <td>0.021194</td>\n",
       "      <td>3</td>\n",
       "      <td>13</td>\n",
       "    </tr>\n",
       "  </tbody>\n",
       "</table>\n",
       "</div>"
      ],
      "text/plain": [
       "         muni  Ingreso per capita  % Presupuesto ejecutado  trabajadores  \\\n",
       "0       ANCON          207.857758                    68.46           215   \n",
       "1         ATE          289.322960                    77.10          1627   \n",
       "2    BARRANCO          292.157317                    75.90           521   \n",
       "3  CHACLACAYO          213.441099                    80.92           189   \n",
       "4  CHORRILLOS          264.977511                    83.82           345   \n",
       "\n",
       "   n° beneficiarios  beneficiarios%  centros  años implementación  \n",
       "0                50        0.030395        1                   10  \n",
       "1               420        0.021511       12                    5  \n",
       "2                45        0.007888        1                    0  \n",
       "3               180        0.052988        4                   11  \n",
       "4               361        0.021194        3                   13  "
      ]
     },
     "execution_count": 82,
     "metadata": {},
     "output_type": "execute_result"
    }
   ],
   "source": [
    "df.head()  # Muestra las primeras filas del DataFrame\n"
   ]
  },
  {
   "cell_type": "code",
   "execution_count": 83,
   "id": "22e9c598-9e23-4908-9de3-5a6a2bde1866",
   "metadata": {},
   "outputs": [
    {
     "name": "stdout",
     "output_type": "stream",
     "text": [
      "                         muni     rate1     rate2\n",
      "0                       ANCON  0.232558  0.329360\n",
      "1                         ATE  0.258144  0.266484\n",
      "2                    BARRANCO  0.086372  0.259792\n",
      "3                  CHACLACAYO  0.952381  0.379121\n",
      "4                  CHORRILLOS  1.046377  0.316329\n",
      "5   LOS OLIVOS (LAS PALMERAS)  0.392377  0.308109\n",
      "6        LURIGANCHO (CHOSICA)  0.068729  0.292089\n",
      "7               PUENTE PIEDRA  0.856531  0.349001\n",
      "8                    SAN LUIS  1.157407  0.334111\n",
      "9                  SANTA ROSA  0.808081  0.275528\n",
      "10                  SURQUILLO  1.287554  0.356133\n"
     ]
    }
   ],
   "source": [
    "# Calcular los ratios con los nombres de columna adecuados\n",
    "df['rate1'] = df['n° beneficiarios'] / df['trabajadores']  # Ratio de beneficiarios por trabajador\n",
    "df['rate2'] = df['% Presupuesto ejecutado'] / df['Ingreso per capita']  # Ratio de presupuesto ejecutado relativo al ingreso per cápita\n",
    "\n",
    "# Visualizar los resultados\n",
    "print(df[['muni', 'rate1', 'rate2']])\n"
   ]
  },
  {
   "cell_type": "code",
   "execution_count": 84,
   "id": "0f6c99d0-a4df-413e-8319-6d703aa86ffc",
   "metadata": {},
   "outputs": [
    {
     "name": "stdout",
     "output_type": "stream",
     "text": [
      "Requirement already satisfied: altair in c:\\users\\michael encalada\\anaconda3\\lib\\site-packages (5.4.1)\n",
      "Requirement already satisfied: jsonschema>=3.0 in c:\\users\\michael encalada\\anaconda3\\lib\\site-packages (from altair) (4.16.0)\n",
      "Requirement already satisfied: narwhals>=1.5.2 in c:\\users\\michael encalada\\anaconda3\\lib\\site-packages (from altair) (1.13.3)\n",
      "Requirement already satisfied: packaging in c:\\users\\michael encalada\\anaconda3\\lib\\site-packages (from altair) (21.3)\n",
      "Requirement already satisfied: typing-extensions>=4.10.0 in c:\\users\\michael encalada\\anaconda3\\lib\\site-packages (from altair) (4.12.2)\n",
      "Requirement already satisfied: jinja2 in c:\\users\\michael encalada\\anaconda3\\lib\\site-packages (from altair) (3.1.2)\n",
      "Requirement already satisfied: attrs>=17.4.0 in c:\\users\\michael encalada\\anaconda3\\lib\\site-packages (from jsonschema>=3.0->altair) (21.4.0)\n",
      "Requirement already satisfied: pyrsistent!=0.17.0,!=0.17.1,!=0.17.2,>=0.14.0 in c:\\users\\michael encalada\\anaconda3\\lib\\site-packages (from jsonschema>=3.0->altair) (0.18.0)\n",
      "Requirement already satisfied: MarkupSafe>=2.0 in c:\\users\\michael encalada\\anaconda3\\lib\\site-packages (from jinja2->altair) (3.0.2)\n",
      "Requirement already satisfied: pyparsing!=3.0.5,>=2.0.2 in c:\\users\\michael encalada\\anaconda3\\lib\\site-packages (from packaging->altair) (3.0.9)\n"
     ]
    }
   ],
   "source": [
    "!pip install altair"
   ]
  },
  {
   "cell_type": "code",
   "execution_count": 85,
   "id": "85e65384-f6b7-4a95-a06d-25306f910242",
   "metadata": {},
   "outputs": [
    {
     "data": {
      "text/html": [
       "\n",
       "<style>\n",
       "  #altair-viz-838a01484b894567b748ee88a994da6b.vega-embed {\n",
       "    width: 100%;\n",
       "    display: flex;\n",
       "  }\n",
       "\n",
       "  #altair-viz-838a01484b894567b748ee88a994da6b.vega-embed details,\n",
       "  #altair-viz-838a01484b894567b748ee88a994da6b.vega-embed details summary {\n",
       "    position: relative;\n",
       "  }\n",
       "</style>\n",
       "<div id=\"altair-viz-838a01484b894567b748ee88a994da6b\"></div>\n",
       "<script type=\"text/javascript\">\n",
       "  var VEGA_DEBUG = (typeof VEGA_DEBUG == \"undefined\") ? {} : VEGA_DEBUG;\n",
       "  (function(spec, embedOpt){\n",
       "    let outputDiv = document.currentScript.previousElementSibling;\n",
       "    if (outputDiv.id !== \"altair-viz-838a01484b894567b748ee88a994da6b\") {\n",
       "      outputDiv = document.getElementById(\"altair-viz-838a01484b894567b748ee88a994da6b\");\n",
       "    }\n",
       "    const paths = {\n",
       "      \"vega\": \"https://cdn.jsdelivr.net/npm/vega@5?noext\",\n",
       "      \"vega-lib\": \"https://cdn.jsdelivr.net/npm/vega-lib?noext\",\n",
       "      \"vega-lite\": \"https://cdn.jsdelivr.net/npm/vega-lite@5.20.1?noext\",\n",
       "      \"vega-embed\": \"https://cdn.jsdelivr.net/npm/vega-embed@6?noext\",\n",
       "    };\n",
       "\n",
       "    function maybeLoadScript(lib, version) {\n",
       "      var key = `${lib.replace(\"-\", \"\")}_version`;\n",
       "      return (VEGA_DEBUG[key] == version) ?\n",
       "        Promise.resolve(paths[lib]) :\n",
       "        new Promise(function(resolve, reject) {\n",
       "          var s = document.createElement('script');\n",
       "          document.getElementsByTagName(\"head\")[0].appendChild(s);\n",
       "          s.async = true;\n",
       "          s.onload = () => {\n",
       "            VEGA_DEBUG[key] = version;\n",
       "            return resolve(paths[lib]);\n",
       "          };\n",
       "          s.onerror = () => reject(`Error loading script: ${paths[lib]}`);\n",
       "          s.src = paths[lib];\n",
       "        });\n",
       "    }\n",
       "\n",
       "    function showError(err) {\n",
       "      outputDiv.innerHTML = `<div class=\"error\" style=\"color:red;\">${err}</div>`;\n",
       "      throw err;\n",
       "    }\n",
       "\n",
       "    function displayChart(vegaEmbed) {\n",
       "      vegaEmbed(outputDiv, spec, embedOpt)\n",
       "        .catch(err => showError(`Javascript Error: ${err.message}<br>This usually means there's a typo in your chart specification. See the javascript console for the full traceback.`));\n",
       "    }\n",
       "\n",
       "    if(typeof define === \"function\" && define.amd) {\n",
       "      requirejs.config({paths});\n",
       "      require([\"vega-embed\"], displayChart, err => showError(`Error loading script: ${err.message}`));\n",
       "    } else {\n",
       "      maybeLoadScript(\"vega\", \"5\")\n",
       "        .then(() => maybeLoadScript(\"vega-lite\", \"5.20.1\"))\n",
       "        .then(() => maybeLoadScript(\"vega-embed\", \"6\"))\n",
       "        .catch(showError)\n",
       "        .then(() => displayChart(vegaEmbed));\n",
       "    }\n",
       "  })({\"config\": {\"view\": {\"continuousWidth\": 300, \"continuousHeight\": 300}}, \"layer\": [{\"mark\": {\"type\": \"point\"}, \"encoding\": {\"x\": {\"field\": \"rate1\", \"title\": \"Beneficiarios vs Trabajadores\", \"type\": \"quantitative\"}, \"y\": {\"field\": \"rate2\", \"title\": \"Presupuesto ejecutado vs Ingresos, per c\\u00e1pita\", \"type\": \"quantitative\"}}}, {\"mark\": {\"type\": \"text\", \"align\": \"right\", \"baseline\": \"middle\", \"dx\": -7}, \"encoding\": {\"text\": {\"field\": \"muni\", \"type\": \"nominal\"}, \"x\": {\"field\": \"rate1\", \"title\": \"Beneficiarios vs Trabajadores\", \"type\": \"quantitative\"}, \"y\": {\"field\": \"rate2\", \"title\": \"Presupuesto ejecutado vs Ingresos, per c\\u00e1pita\", \"type\": \"quantitative\"}}, \"name\": \"view_3\"}], \"data\": {\"name\": \"data-77a0d4a246c1b066f33cc48d87ea379c\"}, \"params\": [{\"name\": \"param_2\", \"select\": {\"type\": \"interval\", \"encodings\": [\"x\", \"y\"]}, \"bind\": \"scales\", \"views\": [\"view_3\"]}], \"$schema\": \"https://vega.github.io/schema/vega-lite/v5.20.1.json\", \"datasets\": {\"data-77a0d4a246c1b066f33cc48d87ea379c\": [{\"muni\": \"ANCON\", \"Ingreso per capita\": 207.85775849432736, \"% Presupuesto ejecutado\": 68.46, \"trabajadores\": 215, \"n\\u00b0 beneficiarios\": 50, \"beneficiarios%\": 0.030395136778115502, \"centros\": 1, \"a\\u00f1os implementaci\\u00f3n\": 10, \"rate1\": 0.23255813953488372, \"rate2\": 0.3293598492349196}, {\"muni\": \"ATE\", \"Ingreso per capita\": 289.3229597161344, \"% Presupuesto ejecutado\": 77.1, \"trabajadores\": 1627, \"n\\u00b0 beneficiarios\": 420, \"beneficiarios%\": 0.021510883482714467, \"centros\": 12, \"a\\u00f1os implementaci\\u00f3n\": 5, \"rate1\": 0.2581438229870928, \"rate2\": 0.26648420877363377}, {\"muni\": \"BARRANCO\", \"Ingreso per capita\": 292.15731666436614, \"% Presupuesto ejecutado\": 75.9, \"trabajadores\": 521, \"n\\u00b0 beneficiarios\": 45, \"beneficiarios%\": 0.007887817703768623, \"centros\": 1, \"a\\u00f1os implementaci\\u00f3n\": 0, \"rate1\": 0.08637236084452975, \"rate2\": 0.25979154267491733}, {\"muni\": \"CHACLACAYO\", \"Ingreso per capita\": 213.44109885016223, \"% Presupuesto ejecutado\": 80.92, \"trabajadores\": 189, \"n\\u00b0 beneficiarios\": 180, \"beneficiarios%\": 0.05298793052693553, \"centros\": 4, \"a\\u00f1os implementaci\\u00f3n\": 11, \"rate1\": 0.9523809523809523, \"rate2\": 0.3791209867074693}, {\"muni\": \"CHORRILLOS\", \"Ingreso per capita\": 264.97751142052874, \"% Presupuesto ejecutado\": 83.82000000000001, \"trabajadores\": 345, \"n\\u00b0 beneficiarios\": 361, \"beneficiarios%\": 0.021194152527446723, \"centros\": 3, \"a\\u00f1os implementaci\\u00f3n\": 13, \"rate1\": 1.046376811594203, \"rate2\": 0.3163287312596679}, {\"muni\": \"LOS OLIVOS (LAS PALMERAS)\", \"Ingreso per capita\": 259.323724282708, \"% Presupuesto ejecutado\": 79.9, \"trabajadores\": 1338, \"n\\u00b0 beneficiarios\": 525, \"beneficiarios%\": 0.030680224403927068, \"centros\": 21, \"a\\u00f1os implementaci\\u00f3n\": 2, \"rate1\": 0.3923766816143498, \"rate2\": 0.30810910270938074}, {\"muni\": \"LURIGANCHO (CHOSICA)\", \"Ingreso per capita\": 253.27939712281926, \"% Presupuesto ejecutado\": 73.97999999999999, \"trabajadores\": 873, \"n\\u00b0 beneficiarios\": 60, \"beneficiarios%\": 0.007952286282306162, \"centros\": 2, \"a\\u00f1os implementaci\\u00f3n\": 11, \"rate1\": 0.06872852233676977, \"rate2\": 0.29208850321183405}, {\"muni\": \"PUENTE PIEDRA\", \"Ingreso per capita\": 217.64951141197378, \"% Presupuesto ejecutado\": 75.96000000000001, \"trabajadores\": 467, \"n\\u00b0 beneficiarios\": 400, \"beneficiarios%\": 0.05481704810195971, \"centros\": 5, \"a\\u00f1os implementaci\\u00f3n\": 5, \"rate1\": 0.8565310492505354, \"rate2\": 0.3490014726300973}, {\"muni\": \"SAN LUIS\", \"Ingreso per capita\": 266.6176324247943, \"% Presupuesto ejecutado\": 89.08000000000001, \"trabajadores\": 432, \"n\\u00b0 beneficiarios\": 500, \"beneficiarios%\": 0.09107468123861566, \"centros\": 3, \"a\\u00f1os implementaci\\u00f3n\": 10, \"rate1\": 1.1574074074074074, \"rate2\": 0.33411143587859704}, {\"muni\": \"SANTA ROSA\", \"Ingreso per capita\": 245.2019679940798, \"% Presupuesto ejecutado\": 67.56, \"trabajadores\": 99, \"n\\u00b0 beneficiarios\": 80, \"beneficiarios%\": 0.20304568527918782, \"centros\": 1, \"a\\u00f1os implementaci\\u00f3n\": 2, \"rate1\": 0.8080808080808081, \"rate2\": 0.2755279680366643}, {\"muni\": \"SURQUILLO\", \"Ingreso per capita\": 256.1964430310111, \"% Presupuesto ejecutado\": 91.23999999999998, \"trabajadores\": 699, \"n\\u00b0 beneficiarios\": 900, \"beneficiarios%\": 0.08228947609033556, \"centros\": 11, \"a\\u00f1os implementaci\\u00f3n\": 1, \"rate1\": 1.2875536480686696, \"rate2\": 0.3561329693752068}]}}, {\"mode\": \"vega-lite\"});\n",
       "</script>"
      ],
      "text/plain": [
       "alt.LayerChart(...)"
      ]
     },
     "execution_count": 85,
     "metadata": {},
     "output_type": "execute_result"
    }
   ],
   "source": [
    "import altair as alt\n",
    "\n",
    "points = alt.Chart(df).mark_point().encode(\n",
    "    x=alt.X('rate1:Q', title='Beneficiarios vs Trabajadores'),  # Cambia el título de este eje\n",
    "    y=alt.Y('rate2:Q', title='Presupuesto ejecutado vs Ingresos, per cápita')   # Cambia el título de este eje\n",
    ")\n",
    "\n",
    "text = points.mark_text(\n",
    "    align='right',\n",
    "    baseline='middle',\n",
    "    dx=-7\n",
    ").encode(\n",
    "    text='muni'\n",
    ").interactive()\n",
    "\n",
    "points + text"
   ]
  },
  {
   "cell_type": "code",
   "execution_count": 86,
   "id": "3f58bd12-ad58-4e2a-801f-68b6f1c29296",
   "metadata": {},
   "outputs": [
    {
     "data": {
      "text/html": [
       "<div>\n",
       "<style scoped>\n",
       "    .dataframe tbody tr th:only-of-type {\n",
       "        vertical-align: middle;\n",
       "    }\n",
       "\n",
       "    .dataframe tbody tr th {\n",
       "        vertical-align: top;\n",
       "    }\n",
       "\n",
       "    .dataframe thead th {\n",
       "        text-align: right;\n",
       "    }\n",
       "</style>\n",
       "<table border=\"1\" class=\"dataframe\">\n",
       "  <thead>\n",
       "    <tr style=\"text-align: right;\">\n",
       "      <th></th>\n",
       "      <th>muni</th>\n",
       "      <th>rate1</th>\n",
       "      <th>rate2</th>\n",
       "    </tr>\n",
       "  </thead>\n",
       "  <tbody>\n",
       "    <tr>\n",
       "      <th>10</th>\n",
       "      <td>SURQUILLO</td>\n",
       "      <td>1.287554</td>\n",
       "      <td>0.356133</td>\n",
       "    </tr>\n",
       "    <tr>\n",
       "      <th>8</th>\n",
       "      <td>SAN LUIS</td>\n",
       "      <td>1.157407</td>\n",
       "      <td>0.334111</td>\n",
       "    </tr>\n",
       "    <tr>\n",
       "      <th>4</th>\n",
       "      <td>CHORRILLOS</td>\n",
       "      <td>1.046377</td>\n",
       "      <td>0.316329</td>\n",
       "    </tr>\n",
       "    <tr>\n",
       "      <th>3</th>\n",
       "      <td>CHACLACAYO</td>\n",
       "      <td>0.952381</td>\n",
       "      <td>0.379121</td>\n",
       "    </tr>\n",
       "    <tr>\n",
       "      <th>7</th>\n",
       "      <td>PUENTE PIEDRA</td>\n",
       "      <td>0.856531</td>\n",
       "      <td>0.349001</td>\n",
       "    </tr>\n",
       "  </tbody>\n",
       "</table>\n",
       "</div>"
      ],
      "text/plain": [
       "             muni     rate1     rate2\n",
       "10      SURQUILLO  1.287554  0.356133\n",
       "8        SAN LUIS  1.157407  0.334111\n",
       "4      CHORRILLOS  1.046377  0.316329\n",
       "3      CHACLACAYO  0.952381  0.379121\n",
       "7   PUENTE PIEDRA  0.856531  0.349001"
      ]
     },
     "execution_count": 86,
     "metadata": {},
     "output_type": "execute_result"
    }
   ],
   "source": [
    "df[['muni','rate1','rate2']].sort_values(by='rate1',ascending=False).head()"
   ]
  },
  {
   "cell_type": "code",
   "execution_count": 87,
   "id": "38c879e3-ca65-4d70-9565-44b452315c3f",
   "metadata": {},
   "outputs": [
    {
     "data": {
      "text/html": [
       "<div>\n",
       "<style scoped>\n",
       "    .dataframe tbody tr th:only-of-type {\n",
       "        vertical-align: middle;\n",
       "    }\n",
       "\n",
       "    .dataframe tbody tr th {\n",
       "        vertical-align: top;\n",
       "    }\n",
       "\n",
       "    .dataframe thead th {\n",
       "        text-align: right;\n",
       "    }\n",
       "</style>\n",
       "<table border=\"1\" class=\"dataframe\">\n",
       "  <thead>\n",
       "    <tr style=\"text-align: right;\">\n",
       "      <th></th>\n",
       "      <th>muni</th>\n",
       "      <th>rate1</th>\n",
       "      <th>rate2</th>\n",
       "    </tr>\n",
       "  </thead>\n",
       "  <tbody>\n",
       "    <tr>\n",
       "      <th>3</th>\n",
       "      <td>CHACLACAYO</td>\n",
       "      <td>0.952381</td>\n",
       "      <td>0.379121</td>\n",
       "    </tr>\n",
       "    <tr>\n",
       "      <th>10</th>\n",
       "      <td>SURQUILLO</td>\n",
       "      <td>1.287554</td>\n",
       "      <td>0.356133</td>\n",
       "    </tr>\n",
       "    <tr>\n",
       "      <th>7</th>\n",
       "      <td>PUENTE PIEDRA</td>\n",
       "      <td>0.856531</td>\n",
       "      <td>0.349001</td>\n",
       "    </tr>\n",
       "    <tr>\n",
       "      <th>8</th>\n",
       "      <td>SAN LUIS</td>\n",
       "      <td>1.157407</td>\n",
       "      <td>0.334111</td>\n",
       "    </tr>\n",
       "    <tr>\n",
       "      <th>0</th>\n",
       "      <td>ANCON</td>\n",
       "      <td>0.232558</td>\n",
       "      <td>0.329360</td>\n",
       "    </tr>\n",
       "  </tbody>\n",
       "</table>\n",
       "</div>"
      ],
      "text/plain": [
       "             muni     rate1     rate2\n",
       "3      CHACLACAYO  0.952381  0.379121\n",
       "10      SURQUILLO  1.287554  0.356133\n",
       "7   PUENTE PIEDRA  0.856531  0.349001\n",
       "8        SAN LUIS  1.157407  0.334111\n",
       "0           ANCON  0.232558  0.329360"
      ]
     },
     "execution_count": 87,
     "metadata": {},
     "output_type": "execute_result"
    }
   ],
   "source": [
    "df[['muni','rate1','rate2']].sort_values(by='rate2',ascending=False).head()\n"
   ]
  },
  {
   "cell_type": "code",
   "execution_count": 88,
   "id": "ab9c52dc-4941-452e-96b8-4e2727f8f64a",
   "metadata": {},
   "outputs": [
    {
     "data": {
      "text/html": [
       "<div>\n",
       "<style scoped>\n",
       "    .dataframe tbody tr th:only-of-type {\n",
       "        vertical-align: middle;\n",
       "    }\n",
       "\n",
       "    .dataframe tbody tr th {\n",
       "        vertical-align: top;\n",
       "    }\n",
       "\n",
       "    .dataframe thead th {\n",
       "        text-align: right;\n",
       "    }\n",
       "</style>\n",
       "<table border=\"1\" class=\"dataframe\">\n",
       "  <thead>\n",
       "    <tr style=\"text-align: right;\">\n",
       "      <th></th>\n",
       "      <th>x</th>\n",
       "      <th>y</th>\n",
       "    </tr>\n",
       "  </thead>\n",
       "  <tbody>\n",
       "    <tr>\n",
       "      <th>0</th>\n",
       "      <td>0.000000</td>\n",
       "      <td>0.379121</td>\n",
       "    </tr>\n",
       "    <tr>\n",
       "      <th>1</th>\n",
       "      <td>0.952381</td>\n",
       "      <td>0.379121</td>\n",
       "    </tr>\n",
       "    <tr>\n",
       "      <th>2</th>\n",
       "      <td>1.287554</td>\n",
       "      <td>0.356133</td>\n",
       "    </tr>\n",
       "    <tr>\n",
       "      <th>3</th>\n",
       "      <td>1.287554</td>\n",
       "      <td>0.000000</td>\n",
       "    </tr>\n",
       "  </tbody>\n",
       "</table>\n",
       "</div>"
      ],
      "text/plain": [
       "          x         y\n",
       "0  0.000000  0.379121\n",
       "1  0.952381  0.379121\n",
       "2  1.287554  0.356133\n",
       "3  1.287554  0.000000"
      ]
     },
     "execution_count": 88,
     "metadata": {},
     "output_type": "execute_result"
    }
   ],
   "source": [
    "Best_beneficiarios=df.rate1.idxmax()\n",
    "Best_dinero=df.rate2.idxmax()\n",
    "\n",
    "frontier1=df.loc[Best_beneficiarios,['rate1','rate2']].to_list()\n",
    "frontier2=df.loc[Best_dinero,['rate1','rate2']].to_list()\n",
    "\n",
    "#parallels\n",
    "frontier1v=[frontier1[0],0]\n",
    "frontier2h=[0,frontier2[1]]\n",
    "\n",
    "#then\n",
    "envelope=pd.DataFrame([frontier2h,frontier2,frontier1,frontier1v],columns=['x','y'])\n",
    "envelope"
   ]
  },
  {
   "cell_type": "code",
   "execution_count": 89,
   "id": "3e34f927-8820-4215-a055-6c030e30e2aa",
   "metadata": {},
   "outputs": [
    {
     "data": {
      "text/html": [
       "\n",
       "<style>\n",
       "  #altair-viz-a0fecc14a063470c8557779a3395b5ea.vega-embed {\n",
       "    width: 100%;\n",
       "    display: flex;\n",
       "  }\n",
       "\n",
       "  #altair-viz-a0fecc14a063470c8557779a3395b5ea.vega-embed details,\n",
       "  #altair-viz-a0fecc14a063470c8557779a3395b5ea.vega-embed details summary {\n",
       "    position: relative;\n",
       "  }\n",
       "</style>\n",
       "<div id=\"altair-viz-a0fecc14a063470c8557779a3395b5ea\"></div>\n",
       "<script type=\"text/javascript\">\n",
       "  var VEGA_DEBUG = (typeof VEGA_DEBUG == \"undefined\") ? {} : VEGA_DEBUG;\n",
       "  (function(spec, embedOpt){\n",
       "    let outputDiv = document.currentScript.previousElementSibling;\n",
       "    if (outputDiv.id !== \"altair-viz-a0fecc14a063470c8557779a3395b5ea\") {\n",
       "      outputDiv = document.getElementById(\"altair-viz-a0fecc14a063470c8557779a3395b5ea\");\n",
       "    }\n",
       "    const paths = {\n",
       "      \"vega\": \"https://cdn.jsdelivr.net/npm/vega@5?noext\",\n",
       "      \"vega-lib\": \"https://cdn.jsdelivr.net/npm/vega-lib?noext\",\n",
       "      \"vega-lite\": \"https://cdn.jsdelivr.net/npm/vega-lite@5.20.1?noext\",\n",
       "      \"vega-embed\": \"https://cdn.jsdelivr.net/npm/vega-embed@6?noext\",\n",
       "    };\n",
       "\n",
       "    function maybeLoadScript(lib, version) {\n",
       "      var key = `${lib.replace(\"-\", \"\")}_version`;\n",
       "      return (VEGA_DEBUG[key] == version) ?\n",
       "        Promise.resolve(paths[lib]) :\n",
       "        new Promise(function(resolve, reject) {\n",
       "          var s = document.createElement('script');\n",
       "          document.getElementsByTagName(\"head\")[0].appendChild(s);\n",
       "          s.async = true;\n",
       "          s.onload = () => {\n",
       "            VEGA_DEBUG[key] = version;\n",
       "            return resolve(paths[lib]);\n",
       "          };\n",
       "          s.onerror = () => reject(`Error loading script: ${paths[lib]}`);\n",
       "          s.src = paths[lib];\n",
       "        });\n",
       "    }\n",
       "\n",
       "    function showError(err) {\n",
       "      outputDiv.innerHTML = `<div class=\"error\" style=\"color:red;\">${err}</div>`;\n",
       "      throw err;\n",
       "    }\n",
       "\n",
       "    function displayChart(vegaEmbed) {\n",
       "      vegaEmbed(outputDiv, spec, embedOpt)\n",
       "        .catch(err => showError(`Javascript Error: ${err.message}<br>This usually means there's a typo in your chart specification. See the javascript console for the full traceback.`));\n",
       "    }\n",
       "\n",
       "    if(typeof define === \"function\" && define.amd) {\n",
       "      requirejs.config({paths});\n",
       "      require([\"vega-embed\"], displayChart, err => showError(`Error loading script: ${err.message}`));\n",
       "    } else {\n",
       "      maybeLoadScript(\"vega\", \"5\")\n",
       "        .then(() => maybeLoadScript(\"vega-lite\", \"5.20.1\"))\n",
       "        .then(() => maybeLoadScript(\"vega-embed\", \"6\"))\n",
       "        .catch(showError)\n",
       "        .then(() => displayChart(vegaEmbed));\n",
       "    }\n",
       "  })({\"config\": {\"view\": {\"continuousWidth\": 300, \"continuousHeight\": 300}}, \"layer\": [{\"mark\": {\"type\": \"point\"}, \"encoding\": {\"x\": {\"field\": \"rate1\", \"title\": \"Beneficiarios vs Trabajadores\", \"type\": \"quantitative\"}, \"y\": {\"field\": \"rate2\", \"title\": \"Presupuesto ejecutado vs Ingresos, per c\\u00e1pita\", \"type\": \"quantitative\"}}}, {\"mark\": {\"type\": \"text\", \"align\": \"right\", \"baseline\": \"middle\", \"dx\": -7}, \"encoding\": {\"text\": {\"field\": \"muni\", \"type\": \"nominal\"}, \"x\": {\"field\": \"rate1\", \"title\": \"Beneficiarios vs Trabajadores\", \"type\": \"quantitative\"}, \"y\": {\"field\": \"rate2\", \"title\": \"Presupuesto ejecutado vs Ingresos, per c\\u00e1pita\", \"type\": \"quantitative\"}}, \"name\": \"view_4\"}, {\"data\": {\"name\": \"data-49991926fd707ea215c33a1b03ab014a\"}, \"mark\": {\"type\": \"line\", \"color\": \"red\"}, \"encoding\": {\"x\": {\"field\": \"x\", \"type\": \"quantitative\"}, \"y\": {\"field\": \"y\", \"type\": \"quantitative\"}}}], \"data\": {\"name\": \"data-77a0d4a246c1b066f33cc48d87ea379c\"}, \"params\": [{\"name\": \"param_2\", \"select\": {\"type\": \"interval\", \"encodings\": [\"x\", \"y\"]}, \"bind\": \"scales\", \"views\": [\"view_4\"]}], \"$schema\": \"https://vega.github.io/schema/vega-lite/v5.20.1.json\", \"datasets\": {\"data-77a0d4a246c1b066f33cc48d87ea379c\": [{\"muni\": \"ANCON\", \"Ingreso per capita\": 207.85775849432736, \"% Presupuesto ejecutado\": 68.46, \"trabajadores\": 215, \"n\\u00b0 beneficiarios\": 50, \"beneficiarios%\": 0.030395136778115502, \"centros\": 1, \"a\\u00f1os implementaci\\u00f3n\": 10, \"rate1\": 0.23255813953488372, \"rate2\": 0.3293598492349196}, {\"muni\": \"ATE\", \"Ingreso per capita\": 289.3229597161344, \"% Presupuesto ejecutado\": 77.1, \"trabajadores\": 1627, \"n\\u00b0 beneficiarios\": 420, \"beneficiarios%\": 0.021510883482714467, \"centros\": 12, \"a\\u00f1os implementaci\\u00f3n\": 5, \"rate1\": 0.2581438229870928, \"rate2\": 0.26648420877363377}, {\"muni\": \"BARRANCO\", \"Ingreso per capita\": 292.15731666436614, \"% Presupuesto ejecutado\": 75.9, \"trabajadores\": 521, \"n\\u00b0 beneficiarios\": 45, \"beneficiarios%\": 0.007887817703768623, \"centros\": 1, \"a\\u00f1os implementaci\\u00f3n\": 0, \"rate1\": 0.08637236084452975, \"rate2\": 0.25979154267491733}, {\"muni\": \"CHACLACAYO\", \"Ingreso per capita\": 213.44109885016223, \"% Presupuesto ejecutado\": 80.92, \"trabajadores\": 189, \"n\\u00b0 beneficiarios\": 180, \"beneficiarios%\": 0.05298793052693553, \"centros\": 4, \"a\\u00f1os implementaci\\u00f3n\": 11, \"rate1\": 0.9523809523809523, \"rate2\": 0.3791209867074693}, {\"muni\": \"CHORRILLOS\", \"Ingreso per capita\": 264.97751142052874, \"% Presupuesto ejecutado\": 83.82000000000001, \"trabajadores\": 345, \"n\\u00b0 beneficiarios\": 361, \"beneficiarios%\": 0.021194152527446723, \"centros\": 3, \"a\\u00f1os implementaci\\u00f3n\": 13, \"rate1\": 1.046376811594203, \"rate2\": 0.3163287312596679}, {\"muni\": \"LOS OLIVOS (LAS PALMERAS)\", \"Ingreso per capita\": 259.323724282708, \"% Presupuesto ejecutado\": 79.9, \"trabajadores\": 1338, \"n\\u00b0 beneficiarios\": 525, \"beneficiarios%\": 0.030680224403927068, \"centros\": 21, \"a\\u00f1os implementaci\\u00f3n\": 2, \"rate1\": 0.3923766816143498, \"rate2\": 0.30810910270938074}, {\"muni\": \"LURIGANCHO (CHOSICA)\", \"Ingreso per capita\": 253.27939712281926, \"% Presupuesto ejecutado\": 73.97999999999999, \"trabajadores\": 873, \"n\\u00b0 beneficiarios\": 60, \"beneficiarios%\": 0.007952286282306162, \"centros\": 2, \"a\\u00f1os implementaci\\u00f3n\": 11, \"rate1\": 0.06872852233676977, \"rate2\": 0.29208850321183405}, {\"muni\": \"PUENTE PIEDRA\", \"Ingreso per capita\": 217.64951141197378, \"% Presupuesto ejecutado\": 75.96000000000001, \"trabajadores\": 467, \"n\\u00b0 beneficiarios\": 400, \"beneficiarios%\": 0.05481704810195971, \"centros\": 5, \"a\\u00f1os implementaci\\u00f3n\": 5, \"rate1\": 0.8565310492505354, \"rate2\": 0.3490014726300973}, {\"muni\": \"SAN LUIS\", \"Ingreso per capita\": 266.6176324247943, \"% Presupuesto ejecutado\": 89.08000000000001, \"trabajadores\": 432, \"n\\u00b0 beneficiarios\": 500, \"beneficiarios%\": 0.09107468123861566, \"centros\": 3, \"a\\u00f1os implementaci\\u00f3n\": 10, \"rate1\": 1.1574074074074074, \"rate2\": 0.33411143587859704}, {\"muni\": \"SANTA ROSA\", \"Ingreso per capita\": 245.2019679940798, \"% Presupuesto ejecutado\": 67.56, \"trabajadores\": 99, \"n\\u00b0 beneficiarios\": 80, \"beneficiarios%\": 0.20304568527918782, \"centros\": 1, \"a\\u00f1os implementaci\\u00f3n\": 2, \"rate1\": 0.8080808080808081, \"rate2\": 0.2755279680366643}, {\"muni\": \"SURQUILLO\", \"Ingreso per capita\": 256.1964430310111, \"% Presupuesto ejecutado\": 91.23999999999998, \"trabajadores\": 699, \"n\\u00b0 beneficiarios\": 900, \"beneficiarios%\": 0.08228947609033556, \"centros\": 11, \"a\\u00f1os implementaci\\u00f3n\": 1, \"rate1\": 1.2875536480686696, \"rate2\": 0.3561329693752068}], \"data-49991926fd707ea215c33a1b03ab014a\": [{\"x\": 0.0, \"y\": 0.3791209867074693}, {\"x\": 0.9523809523809523, \"y\": 0.3791209867074693}, {\"x\": 1.2875536480686696, \"y\": 0.3561329693752068}, {\"x\": 1.2875536480686696, \"y\": 0.0}]}}, {\"mode\": \"vega-lite\"});\n",
       "</script>"
      ],
      "text/plain": [
       "alt.LayerChart(...)"
      ]
     },
     "execution_count": 89,
     "metadata": {},
     "output_type": "execute_result"
    }
   ],
   "source": [
    "points + text + alt.Chart(envelope).mark_line(color='red').encode(\n",
    "    x='x',\n",
    "    y='y',\n",
    ")"
   ]
  },
  {
   "cell_type": "markdown",
   "id": "e186d581-a591-4608-8611-601310feff7d",
   "metadata": {},
   "source": [
    "*Interpretación* La línea roja representa un límite de eficiencia o frontera de producción, que suele utilizarse en análisis de eficiencia como el Análisis Envolvente de Datos (DEA). Beneficiarios trabajadores: Los valores en el eje X muestran cómo los municipios varían en términos de la relación entre beneficiarios y trabajadores. Los municipios más a la derecha tienen una mayor relación \"beneficiarios/trabajadores\", lo que sugiere que están atendiendo a más beneficiarios por trabajador. Presupuesto vs ingresos per cápita Los valores en el eje Y representan la relación entre ingresos y presupuesto ejecutado. Los municipios que están más arriba en el eje Y pueden estar mostrando una mayor relación de presupuesto ejecutado per capita respecto a sus ingresos, lo que podría indicar una mejor gestión de sus recursos financieros en comparación con los que están más abajo."
   ]
  },
  {
   "cell_type": "code",
   "execution_count": 90,
   "id": "fe44c138-7b25-4426-9e46-5d994ad4a7da",
   "metadata": {},
   "outputs": [
    {
     "name": "stdout",
     "output_type": "stream",
     "text": [
      "Requirement already satisfied: Pyfrontier in c:\\users\\michael encalada\\anaconda3\\lib\\site-packages (1.0.2)\n",
      "Requirement already satisfied: pulp>=2.6.0 in c:\\users\\michael encalada\\anaconda3\\lib\\site-packages (from Pyfrontier) (2.9.0)\n",
      "Requirement already satisfied: numpy>=1.21 in c:\\users\\michael encalada\\anaconda3\\lib\\site-packages (from Pyfrontier) (1.24.4)\n"
     ]
    }
   ],
   "source": [
    "!pip install Pyfrontier"
   ]
  },
  {
   "cell_type": "code",
   "execution_count": 91,
   "id": "38568510-8535-4d28-87f2-8d2b10c9ef88",
   "metadata": {},
   "outputs": [],
   "source": [
    "Input=df.columns[1:2].to_list()\n",
    "Output=df.columns[3:7].to_list()"
   ]
  },
  {
   "cell_type": "code",
   "execution_count": 92,
   "id": "0546fa2f-008a-4a39-bee5-61ceb0df2dc3",
   "metadata": {},
   "outputs": [],
   "source": [
    "from Pyfrontier.frontier_model import EnvelopDEA\n",
    "\n",
    "dea_air_vrs_in = EnvelopDEA(\"VRS\", \"in\")\n",
    "dea_air_vrs_in.fit(\n",
    "    inputs=df[Input].to_numpy(),\n",
    "    outputs=df[Output].to_numpy()\n",
    ")"
   ]
  },
  {
   "cell_type": "code",
   "execution_count": 93,
   "id": "fb8f5d5e-12c6-489e-ae98-853a14540b73",
   "metadata": {},
   "outputs": [
    {
     "data": {
      "text/plain": [
       "muni\n",
       "ANCON                        1.000000\n",
       "ATE                          1.000000\n",
       "BARRANCO                     0.753817\n",
       "CHACLACAYO                   1.000000\n",
       "CHORRILLOS                   0.817271\n",
       "LOS OLIVOS (LAS PALMERAS)    1.000000\n",
       "LURIGANCHO (CHOSICA)         0.936022\n",
       "PUENTE PIEDRA                1.000000\n",
       "SAN LUIS                     0.881591\n",
       "SANTA ROSA                   1.000000\n",
       "SURQUILLO                    1.000000\n",
       "Name: vrs_in, dtype: float64"
      ]
     },
     "execution_count": 93,
     "metadata": {},
     "output_type": "execute_result"
    }
   ],
   "source": [
    "df['vrs_in']=[r.score for r in dea_air_vrs_in.result]\n",
    "df.set_index(df.muni,inplace=True)\n",
    "df['vrs_in']"
   ]
  },
  {
   "cell_type": "code",
   "execution_count": 94,
   "id": "1c1007b6-cb63-4851-bb69-aaef46348e6c",
   "metadata": {},
   "outputs": [
    {
     "name": "stdout",
     "output_type": "stream",
     "text": [
      "Requirement already satisfied: py4etrics in c:\\users\\michael encalada\\anaconda3\\lib\\site-packages (0.1.9)\n"
     ]
    }
   ],
   "source": [
    "!pip install py4etrics"
   ]
  },
  {
   "cell_type": "code",
   "execution_count": 95,
   "id": "9a529400-807a-4161-8c31-57a4872a5066",
   "metadata": {},
   "outputs": [
    {
     "name": "stdout",
     "output_type": "stream",
     "text": [
      "Optimization terminated successfully.\n",
      "         Current function value: 0.733342\n",
      "         Iterations: 83\n",
      "         Function evaluations: 151\n"
     ]
    },
    {
     "data": {
      "text/html": [
       "<table class=\"simpletable\">\n",
       "<caption>Tobit Regression Results</caption>\n",
       "<tr>\n",
       "  <th>Dep. Variable:</th>                <td>vrs_in</td>       <th>  Pseudo R-squ:      </th>  <td>-1.602</td>  \n",
       "</tr>\n",
       "<tr>\n",
       "  <th>Method:</th>                 <td>Maximum Likelihood</td> <th>  Log-Likelihood:    </th>   <td>-8.1</td>   \n",
       "</tr>\n",
       "<tr>\n",
       "  <th>No. Observations:</th>             <td>    11</td>       <th>  LL-Null:           </th>   <td>-3.1</td>   \n",
       "</tr>\n",
       "<tr>\n",
       "  <th>No. Uncensored Obs:</th>              <td>4</td>         <th>  LL-Ratio:          </th>   <td>-9.9</td>   \n",
       "</tr>\n",
       "<tr>\n",
       "  <th>No. Left-censored Obs:</th>           <td>0</td>         <th>  LLR p-value:       </th>   <td>1.000</td>  \n",
       "</tr>\n",
       "<tr>\n",
       "  <th>No. Right-censored Obs:</th>          <td>7</td>         <th>  AIC:               </th>   <td>18.1</td>   \n",
       "</tr>\n",
       "<tr>\n",
       "  <th>Df Residuals:</th>                 <td>     9</td>       <th>  BIC:               </th>   <td>18.5</td>   \n",
       "</tr>\n",
       "<tr>\n",
       "  <th>Df Model:</th>                     <td>     1</td>       <th>  Covariance Type:   </th> <td>nonrobust</td>\n",
       "</tr>\n",
       "</table>\n",
       "<table class=\"simpletable\">\n",
       "<tr>\n",
       "          <td></td>            <th>coef</th>     <th>std err</th>      <th>z</th>      <th>P>|z|</th>  <th>[0.025</th>    <th>0.975]</th>  \n",
       "</tr>\n",
       "<tr>\n",
       "  <th>trabajadores</th>     <td>    0.0013</td> <td>    0.001</td> <td>    1.769</td> <td> 0.077</td> <td>   -0.000</td> <td>    0.003</td>\n",
       "</tr>\n",
       "<tr>\n",
       "  <th>n° beneficiarios</th> <td>    0.0019</td> <td>    0.001</td> <td>    1.447</td> <td> 0.148</td> <td>   -0.001</td> <td>    0.005</td>\n",
       "</tr>\n",
       "<tr>\n",
       "  <th>Log(Sigma)</th>       <td>   -0.2939</td> <td>    0.394</td> <td>   -0.747</td> <td> 0.455</td> <td>   -1.066</td> <td>    0.478</td>\n",
       "</tr>\n",
       "</table>"
      ],
      "text/plain": [
       "<class 'statsmodels.iolib.summary.Summary'>\n",
       "\"\"\"\n",
       "                              Tobit Regression Results                             \n",
       "===================================================================================\n",
       "Dep. Variable:                      vrs_in   Pseudo R-squ:                   -1.602\n",
       "Method:                 Maximum Likelihood   Log-Likelihood:                   -8.1\n",
       "No. Observations:                       11   LL-Null:                          -3.1\n",
       "No. Uncensored Obs:                      4   LL-Ratio:                         -9.9\n",
       "No. Left-censored Obs:                   0   LLR p-value:                     1.000\n",
       "No. Right-censored Obs:                  7   AIC:                              18.1\n",
       "Df Residuals:                            9   BIC:                              18.5\n",
       "Df Model:                                1   Covariance Type:             nonrobust\n",
       "====================================================================================\n",
       "                       coef    std err          z      P>|z|      [0.025      0.975]\n",
       "------------------------------------------------------------------------------------\n",
       "trabajadores         0.0013      0.001      1.769      0.077      -0.000       0.003\n",
       "n° beneficiarios     0.0019      0.001      1.447      0.148      -0.001       0.005\n",
       "Log(Sigma)          -0.2939      0.394     -0.747      0.455      -1.066       0.478\n",
       "====================================================================================\n",
       "\"\"\""
      ]
     },
     "execution_count": 95,
     "metadata": {},
     "output_type": "execute_result"
    }
   ],
   "source": [
    "import numpy as np # linear algebra\n",
    "from py4etrics import tobit\n",
    "# import statsmodels.api as sm\n",
    "\n",
    "df['censored'] =np.where(df['vrs_in']==1, 1, 0)\n",
    "cens = df['censored']\n",
    "endog = df.loc[:,'vrs_in']\n",
    "exog = df.loc[:,'trabajadores':'n° beneficiarios']\n",
    "\n",
    "tobit_res = tobit.Tobit(endog, exog, cens,right=1).fit()\n",
    "tobit_res.summary()"
   ]
  },
  {
   "cell_type": "markdown",
   "id": "49a8659b-4cce-4a2b-9557-19ab7ed78167",
   "metadata": {},
   "source": [
    "**Resultados**: En atención al adulto mayor, y los beneficiarios de servicios ofrecidos por los municipios se observa que el municipio \"SURQUILLO\" podrían estar considerados como más eficientes, ya que optimizan su relación entre beneficiarios y trabajadores mientras mantienen una buena proporción de ingresos sobre el presupuesto.\n",
    "\n",
    "Municipios alejados de la línea roja, como \"PUENTE PIEDRA\" y \"CHACLACAYO\", podrían tener margen para mejorar su eficiencia en alguna de las dimensiones que estás evaluando."
   ]
  },
  {
   "cell_type": "markdown",
   "id": "1e3b1293-f91e-4188-ab70-fb8114798023",
   "metadata": {},
   "source": [
    "# FIN"
   ]
  },
  {
   "cell_type": "code",
   "execution_count": null,
   "id": "d677717b-8048-4d68-8612-e1758e599416",
   "metadata": {},
   "outputs": [],
   "source": []
  }
 ],
 "metadata": {
  "kernelspec": {
   "display_name": "Python 3 (ipykernel)",
   "language": "python",
   "name": "python3"
  },
  "language_info": {
   "codemirror_mode": {
    "name": "ipython",
    "version": 3
   },
   "file_extension": ".py",
   "mimetype": "text/x-python",
   "name": "python",
   "nbconvert_exporter": "python",
   "pygments_lexer": "ipython3",
   "version": "3.9.13"
  }
 },
 "nbformat": 4,
 "nbformat_minor": 5
}
